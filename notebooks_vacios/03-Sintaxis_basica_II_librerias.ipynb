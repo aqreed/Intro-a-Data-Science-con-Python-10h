{
 "cells": [
  {
   "cell_type": "markdown",
   "metadata": {},
   "source": [
    "Shortcut          | Significado   \n",
    "------------------|----------------\n",
    "**CTRL + Enter**  | ejecutar celta \n",
    "**SHIFT + Enter** | ejecutar celda y pasar a siguiente\n",
    "**ALT + Enter**   | ejecutar celda y crear una debajo"
   ]
  },
  {
   "attachments": {
    "python_logo.jpg": {
     "image/jpeg": "[encoded data removed]"
    }
   },
   "cell_type": "markdown",
   "metadata": {},
   "source": [
    "![python_logo.jpg](attachment:python_logo.jpg)\n",
    "\n",
    "---\n",
    "\n",
    "# Introducción a la sintaxis de Python II - librerías\n",
    "_En esta clase se analizará datos almacenados en una serie de archivos `.csv`. Se usará como ejemplo la evolución de la inflamación en pacientes (filas) ante un tratamiento de artritis a lo largo de los días de tratamiento (columnas)._\n",
    "\n",
    "**Objetivos:**\n",
    "\n",
    "* Primer contacto con librerías: qué son y para qué se usan\n",
    "* Cargar una librería y acceder a sus contenidos\n",
    "* Leer datos de un archivo de texto y almacenarlos en un array\n",
    "* Acceder a elementos y secciones del array\n",
    "* Operar con elementos del array\n",
    "* Representar los datos en gráficos sencillos\n",
    "---"
   ]
  },
  {
   "cell_type": "markdown",
   "metadata": {
    "cell_tags": []
   },
   "source": [
    "## Cargando los datos\n",
    "\n",
    "Para cargar los datos, se usará por primera vez una librería. Las librerías empaquetan distintas funciones, estructuras de datos, variables, etc., que pueden ser reutilizadas en otros programas. En este caso se recurrirá a **NumPy**."
   ]
  },
  {
   "cell_type": "code",
   "execution_count": null,
   "metadata": {
    "cell_tags": []
   },
   "outputs": [],
   "source": []
  },
  {
   "cell_type": "markdown",
   "metadata": {
    "cell_tags": []
   },
   "source": [
    "Una vez importada la librería con su alias **np** (podría haber sido \"npy\", o \"nm\", o cualquier otro), se puede acceder a sus funciones:"
   ]
  },
  {
   "cell_type": "code",
   "execution_count": null,
   "metadata": {
    "cell_tags": []
   },
   "outputs": [],
   "source": []
  },
  {
   "cell_type": "markdown",
   "metadata": {
    "cell_tags": []
   },
   "source": [
    "La expresión `np.loadtxt(...)` es una llamada a la función [`loadtxt`](https://docs.scipy.org/doc/numpy/reference/generated/numpy.loadtxt.html) perteneciente a `numpy`. Mediante el punto se indica \"pertenencia a\".\n",
    "\n",
    "En la línea anterior se cargan los datos, pero aún no se ha almacenado en ninguna variable."
   ]
  },
  {
   "cell_type": "code",
   "execution_count": null,
   "metadata": {
    "cell_tags": []
   },
   "outputs": [],
   "source": []
  },
  {
   "cell_type": "markdown",
   "metadata": {
    "cell_tags": []
   },
   "source": [
    "Para comprobar el tipo de dato que es `data`:"
   ]
  },
  {
   "cell_type": "code",
   "execution_count": null,
   "metadata": {
    "cell_tags": []
   },
   "outputs": [],
   "source": []
  },
  {
   "cell_type": "markdown",
   "metadata": {},
   "source": [
    "Y para comprobar el tipo de los valores que contiene:"
   ]
  },
  {
   "cell_type": "code",
   "execution_count": null,
   "metadata": {},
   "outputs": [],
   "source": []
  },
  {
   "cell_type": "markdown",
   "metadata": {},
   "source": [
    "Se obtiene un [`numpy.ndarray`](https://docs.scipy.org/doc/numpy/reference/generated/numpy.ndarray.html), un __bloque de memoria que contiene elementos del mismo tipo__, float64. Básicamente:\n",
    "\n",
    "* _recuerdan_ a los vectores, matrices, tensores...\n",
    "* se puede almacenar el array con un nombre y acceder a sus __elementos__ mediante sus __índices__.\n",
    "* ayudan a gestionar de manera eficiente la memoria y a acelerar los cálculos.\n",
    "---\n",
    "\n",
    "| Índice     | 0     | 1     | 2     | 3     | ...   | n-1   | n  |\n",
    "| ---------- | :---: | :---: | :---: | :---: | :---: | :---: | :---: |\n",
    "| Valor      | 2.1   | 3.6   | 7.8   | 1.5   | ...   | 5.4   | 6.3 |\n",
    "\n",
    "---\n",
    "__¿Qué se suele guardar en arrays?__\n",
    "\n",
    "* Vectores y matrices.\n",
    "* Datos de experimentos:\n",
    "    - En distintos instantes discretos.\n",
    "    - En distintos puntos del espacio.\n",
    "* Resultado de evaluar funciones con los datos anteriores.\n",
    "* Discretizaciones para usar algoritmos de: integración, derivación, interpolación, etc.\n",
    "* etc.\n",
    "\n",
    "Según se observa al imprimir el contenido de `data`, es un array de dos dimensiones, pero ¿de cuántos elementos? ¿y cuántos elementos en cada dimensión?"
   ]
  },
  {
   "cell_type": "code",
   "execution_count": null,
   "metadata": {},
   "outputs": [],
   "source": []
  },
  {
   "cell_type": "markdown",
   "metadata": {
    "cell_tags": []
   },
   "source": [
    "Tiene 60 filas (pacientes) y 40 columnas (días), es decir, 2400 elementos (mediciones). Tanto [`size`](https://docs.scipy.org/doc/numpy/reference/generated/numpy.ndarray.size.html) como [`shape`](https://docs.scipy.org/doc/numpy/reference/generated/numpy.ndarray.shape.html) son atributos del array, esto es, variables ligadas al array.\n",
    "\n",
    "## Accediendo a elementos del array \n",
    "\n",
    "Se usa corchetes, al igual que con listas y tuplas:"
   ]
  },
  {
   "cell_type": "code",
   "execution_count": null,
   "metadata": {
    "cell_tags": []
   },
   "outputs": [],
   "source": []
  },
  {
   "cell_type": "code",
   "execution_count": null,
   "metadata": {},
   "outputs": [],
   "source": []
  },
  {
   "cell_type": "code",
   "execution_count": null,
   "metadata": {
    "cell_tags": []
   },
   "outputs": [],
   "source": []
  },
  {
   "cell_type": "markdown",
   "metadata": {},
   "source": [
    "Recordad que en Python **la indexación comienza en cero**, como en C, C++, Java y Perl, y a diferencia de lenguajes como MATLAB y Fortran (aunque en este último se puede elegir).\n",
    "\n",
    "Por lo tanto, un array de M&times;N (M filas y N columnas) tiene índices que van desde 0 hasta M-1 y N-1. En el array \"data\" de tamaño (60x40) el último elemento sería el:"
   ]
  },
  {
   "cell_type": "code",
   "execution_count": null,
   "metadata": {},
   "outputs": [],
   "source": []
  },
  {
   "attachments": {
    "indexing.png": {
     "image/png": "[encoded data removed]"
    }
   },
   "cell_type": "markdown",
   "metadata": {
    "cell_tags": []
   },
   "source": [
    "## Accediendo a secciones del array \n",
    "\n",
    "Con `[30, 20]` se accede a un solo elemento del array, pero es posible seleccionar varios elementos a la vez mediante la sintaxis `[valor_inicial:valor_final:salto]`. \n",
    "\n",
    "![indexing.png](attachment:indexing.png)\n",
    "\n",
    "Por ejemplo, para acceder a los primeros diez días (columnas) en los primeros cuatro pacientes (filas):"
   ]
  },
  {
   "cell_type": "code",
   "execution_count": null,
   "metadata": {
    "cell_tags": []
   },
   "outputs": [],
   "source": []
  },
  {
   "cell_type": "markdown",
   "metadata": {},
   "source": [
    "En realidad, no hace falta poner el valor_inicial si este es cero:"
   ]
  },
  {
   "cell_type": "code",
   "execution_count": null,
   "metadata": {},
   "outputs": [],
   "source": []
  },
  {
   "cell_type": "markdown",
   "metadata": {},
   "source": [
    "Si no se especifica el valor_final, se accederá hasta el último elemento:"
   ]
  },
  {
   "cell_type": "code",
   "execution_count": null,
   "metadata": {},
   "outputs": [],
   "source": []
  },
  {
   "cell_type": "markdown",
   "metadata": {},
   "source": [
    "Y para cualquier otra sección:"
   ]
  },
  {
   "cell_type": "code",
   "execution_count": null,
   "metadata": {
    "cell_tags": []
   },
   "outputs": [],
   "source": []
  },
  {
   "cell_type": "markdown",
   "metadata": {
    "cell_tags": []
   },
   "source": [
    "Si no se especifica, el step es 1. Variando este parámetro se saltan elementos:"
   ]
  },
  {
   "cell_type": "code",
   "execution_count": null,
   "metadata": {
    "cell_tags": []
   },
   "outputs": [],
   "source": []
  },
  {
   "cell_type": "markdown",
   "metadata": {},
   "source": [
    "<div class=\"alert alert-info\"> No olvidar, **¡el último no está incluido!**</div>"
   ]
  },
  {
   "cell_type": "code",
   "execution_count": null,
   "metadata": {
    "cell_tags": []
   },
   "outputs": [],
   "source": []
  },
  {
   "cell_type": "markdown",
   "metadata": {
    "cell_tags": []
   },
   "source": [
    "## Operando con el array\n",
    "\n",
    "NumPy no solo provee una estructura eficiente de almacenar elementos, sino también funciones para operar con ellos. Por ejemplo, para obtener la inflamación media:"
   ]
  },
  {
   "cell_type": "code",
   "execution_count": null,
   "metadata": {},
   "outputs": [],
   "source": []
  },
  {
   "cell_type": "code",
   "execution_count": null,
   "metadata": {
    "cell_tags": []
   },
   "outputs": [],
   "source": []
  },
  {
   "cell_type": "markdown",
   "metadata": {},
   "source": [
    "La función media está disponible como **función** ([`np.mean`](https://docs.scipy.org/doc/numpy/reference/generated/numpy.mean.html)) y como **método** de un array (`ndarray.mean()`). Un método es una función que pertenece a un elemento, del mismo modo que las variables que pertenecen a ese elemento se llaman atributos.\n",
    "\n",
    "Los arrays de NumPy tienen numerosos métodos:"
   ]
  },
  {
   "cell_type": "code",
   "execution_count": null,
   "metadata": {
    "cell_tags": []
   },
   "outputs": [],
   "source": []
  },
  {
   "cell_type": "markdown",
   "metadata": {},
   "source": [
    "Cuando se analizan datos, es típico aplicar estas funciones a partes del array, por ejemplo: a un paciente en concreto o un día en concreto. Ejemplo para un paciente en los 40 días de tratamiento:"
   ]
  },
  {
   "cell_type": "code",
   "execution_count": null,
   "metadata": {
    "cell_tags": []
   },
   "outputs": [],
   "source": []
  },
  {
   "cell_type": "markdown",
   "metadata": {},
   "source": [
    "Si se quiere hacer esto para cada uno de los 60 pacientes, se debe aplicar esta operación a uno eje entero. En este caso, la media a lo largo de cada fila, es decir, calcular la media a lo largo de las columnas (`axis = 1`)"
   ]
  },
  {
   "cell_type": "code",
   "execution_count": null,
   "metadata": {
    "cell_tags": []
   },
   "outputs": [],
   "source": []
  },
  {
   "cell_type": "markdown",
   "metadata": {
    "cell_tags": []
   },
   "source": [
    "Devuelve un array de 60 valores. Para comprobar esto:"
   ]
  },
  {
   "cell_type": "code",
   "execution_count": null,
   "metadata": {
    "cell_tags": []
   },
   "outputs": [],
   "source": []
  },
  {
   "cell_type": "markdown",
   "metadata": {
    "cell_tags": []
   },
   "source": [
    "Aplicando la misma función al otro eje, se obtendría la media diaría de la inflamación en todos los pacientes:"
   ]
  },
  {
   "cell_type": "code",
   "execution_count": null,
   "metadata": {
    "cell_tags": []
   },
   "outputs": [],
   "source": []
  },
  {
   "cell_type": "markdown",
   "metadata": {},
   "source": [
    "Devuelve un array de 40 valores. Comprobación:"
   ]
  },
  {
   "cell_type": "code",
   "execution_count": null,
   "metadata": {},
   "outputs": [],
   "source": []
  },
  {
   "cell_type": "markdown",
   "metadata": {
    "cell_tags": [
     "challenges"
    ]
   },
   "source": [
    "##### Ejercicio\n",
    "\n",
    "No sólo de un array se pueden hacer secciones, ya hemos visto que las listas y tuples también lo permitían y a lo largo del curso nos toparemos con otras colecciones de datos a las que se puede acceder de este modo. Vamos a usar el slicing sobre los strings. Partiremos del string `\"oxygen\"`:"
   ]
  },
  {
   "cell_type": "code",
   "execution_count": null,
   "metadata": {
    "cell_tags": [
     "challenges"
    ]
   },
   "outputs": [],
   "source": []
  },
  {
   "cell_type": "code",
   "execution_count": null,
   "metadata": {},
   "outputs": [],
   "source": []
  },
  {
   "cell_type": "markdown",
   "metadata": {
    "cell_tags": [
     "challenges"
    ]
   },
   "source": [
    "1.  ¿Qué devuelve `element[:4]`? \n",
    "    ¿y  `element[4:]`?\n",
    "    ¿y `element[:]`?\n",
    "\n",
    "2.  ¿Qué valor tiene `element[-1]`?\n",
    "    ¿y `element[-2]`?\n",
    "    Dados estos resultados, ¿qué hace  `element[1:-1]`?\n",
    "\n",
    "3.  La expresión `element[3:3]` produce una cadena vacía \n",
    "    ¿qué devuelve `data[3:3, 4:4]`?\n",
    "    ¿y  `data[3:3, :]`?"
   ]
  },
  {
   "cell_type": "markdown",
   "metadata": {},
   "source": [
    "## Visualización\n",
    "Una de las mejores maneras de extraer información de los datos es representarlos. A continuación se hará una pequeña introducción a la visualización con matplotlib.\n",
    "\n",
    "Empezando con la *función mágica*:"
   ]
  },
  {
   "cell_type": "code",
   "execution_count": null,
   "metadata": {
    "cell_tags": []
   },
   "outputs": [],
   "source": []
  },
  {
   "cell_type": "markdown",
   "metadata": {},
   "source": [
    "Las funciones mágicas son funciones propias de IPython (el motor de los Jupyter Notebooks). En este caso indica que la salida de la representación quede embebida en el Notebook.\n",
    "\n",
    "Después se importa el módulo pyplot de matplotlib:"
   ]
  },
  {
   "cell_type": "code",
   "execution_count": null,
   "metadata": {},
   "outputs": [],
   "source": []
  },
  {
   "cell_type": "markdown",
   "metadata": {},
   "source": [
    "y se representan todos los datos:"
   ]
  },
  {
   "cell_type": "code",
   "execution_count": null,
   "metadata": {
    "cell_tags": []
   },
   "outputs": [],
   "source": []
  },
  {
   "cell_type": "markdown",
   "metadata": {},
   "source": [
    "Las regiones azules corresponden a valores bajos de inflamación, mientras que las amarillas indican valores más altos. Se aprecia que a lo largo de los cuarenta días la inflamación aumenta alcanzando su máximo alrededor del día 20, disminuyendo en todos los pacientes.\n",
    "\n",
    "Para representar ahora la inflamación media de todos los pacientes para cada día:"
   ]
  },
  {
   "cell_type": "code",
   "execution_count": null,
   "metadata": {
    "cell_tags": []
   },
   "outputs": [],
   "source": []
  },
  {
   "cell_type": "markdown",
   "metadata": {
    "cell_tags": []
   },
   "source": [
    "Inflamación máxima y mínima a lo largo de los días:"
   ]
  },
  {
   "cell_type": "code",
   "execution_count": null,
   "metadata": {
    "cell_tags": []
   },
   "outputs": [],
   "source": []
  },
  {
   "cell_type": "code",
   "execution_count": null,
   "metadata": {},
   "outputs": [],
   "source": []
  },
  {
   "cell_type": "markdown",
   "metadata": {},
   "source": [
    "##### Ejercicio "
   ]
  },
  {
   "cell_type": "markdown",
   "metadata": {},
   "source": [
    "1. Crear una gráfica que muestre la desviación típica de los datos cada día para todos los pacientes\n",
    "2. Crear una gráfica que muestre a la vez la inflamación máxima, media y mínima para cada día."
   ]
  },
  {
   "cell_type": "code",
   "execution_count": null,
   "metadata": {},
   "outputs": [],
   "source": []
  },
  {
   "cell_type": "code",
   "execution_count": null,
   "metadata": {},
   "outputs": [],
   "source": []
  },
  {
   "cell_type": "markdown",
   "metadata": {},
   "source": [
    "---\n",
    "** En definitiva**:\n",
    "* Se puede importar una librería usando un alias\n",
    "* Se han usado atributos de los arrays como `shape` y `size`, así como métodos como [`max`](https://docs.scipy.org/doc/numpy/reference/generated/numpy.ndarray.max.html) y [`std`](https://docs.scipy.org/doc/numpy-1.14.0/reference/generated/numpy.std.html)\n",
    "* Se ha accedido a elementos y secciones de un array\n",
    "* Se han aplicado algunos de los métodos a columnas o filas de un array\n",
    "* Para representar datos, la librería matplotlib\n",
    "\n",
    "** Los materiales de esta clase son una adaptación de: http://swcarpentry.github.io/python-novice-inflammation/ distribuido bajo licencia [Creative Commons Attribution license](https://software-carpentry.org/license/)**\n",
    "\n",
    "---\n",
    "[@AeroPython](https://github.com/aeropython): Mabel Delgado, Alejandro Sáez, Andrés Quezada"
   ]
  }
 ],
 "metadata": {
  "kernelspec": {
   "display_name": "Python 3",
   "language": "python",
   "name": "python3"
  },
  "language_info": {
   "codemirror_mode": {
    "name": "ipython",
    "version": 3
   },
   "file_extension": ".py",
   "mimetype": "text/x-python",
   "name": "python",
   "nbconvert_exporter": "python",
   "pygments_lexer": "ipython3",
   "version": "3.6.9"
  }
 },
 "nbformat": 4,
 "nbformat_minor": 2
}
