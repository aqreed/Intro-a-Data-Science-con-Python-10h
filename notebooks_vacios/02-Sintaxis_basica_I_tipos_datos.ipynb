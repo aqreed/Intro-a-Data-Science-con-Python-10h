{
 "cells": [
  {
   "cell_type": "markdown",
   "metadata": {},
   "source": [
    "Shortcut                 | Significado   \n",
    "------------------------|----------------\n",
    "**CTRL + Enter**  | ejecutar celta \n",
    "**SHIFT + Enter** | ejecutar celda y pasar a siguiente\n",
    "**ALT + Enter**     | ejecutar celda y crear una debajo"
   ]
  },
  {
   "attachments": {
    "python_logo.jpg": {
     "image/jpeg": "[encoded data removed]"
    }
   },
   "cell_type": "markdown",
   "metadata": {},
   "source": [
    "![python_logo.jpg](attachment:python_logo.jpg)\n",
    "\n",
    "---\n",
    "\n",
    "# Introducción a la sintaxis de Python I - tipos de datos\n",
    "_En esta clase haremos una rápida introducción a la sintaxis: tipos numéricos básicos, cómo se opera con ellos, cómo almacenarlos en variables y un primer contacto con secuencias de datos, listas y tuplas._\n",
    "\n",
    "**Objetivos:**\n",
    "\n",
    "* Conocer los distintos tipos de datos numéricos básicos\n",
    "* Aprender a operar con ellos\n",
    "* Aprender a definir variables\n",
    "* Primer contacto con listas y tuplas\n",
    "---"
   ]
  },
  {
   "cell_type": "markdown",
   "metadata": {},
   "source": [
    "## Tipos numéricos\n",
    "Python dispone de los tipos numéricos y las operaciones más habituales:\n",
    "\n",
    "Operación         | Símbolo \n",
    "------------------------|----------------\n",
    "**Suma**  | + \n",
    "**Resta** | -\n",
    "**Multiplicación**     | *\n",
    "**División**     |  /\n",
    "**División a entero**     |  //\n",
    "**Potenciación** | **\n",
    "**Residuo** | %"
   ]
  },
  {
   "cell_type": "code",
   "execution_count": null,
   "metadata": {},
   "outputs": [],
   "source": []
  },
  {
   "cell_type": "code",
   "execution_count": null,
   "metadata": {},
   "outputs": [],
   "source": []
  },
  {
   "cell_type": "code",
   "execution_count": null,
   "metadata": {},
   "outputs": [],
   "source": []
  },
  {
   "cell_type": "markdown",
   "metadata": {},
   "source": [
    "Las divisiones por cero devuelven error:"
   ]
  },
  {
   "cell_type": "code",
   "execution_count": null,
   "metadata": {},
   "outputs": [],
   "source": []
  },
  {
   "cell_type": "code",
   "execution_count": null,
   "metadata": {},
   "outputs": [],
   "source": []
  },
  {
   "cell_type": "markdown",
   "metadata": {},
   "source": [
    "<div class=\"alert alert-info\"> Cuando se use la librería NumPy esta operación devolverá `NaN`.</div>\n",
    "\n",
    "La división entre enteros:\n",
    "* en **Python 3** devuelve un número real\n",
    "* en Python 2 devuelve la parte entera"
   ]
  },
  {
   "cell_type": "code",
   "execution_count": null,
   "metadata": {},
   "outputs": [],
   "source": []
  },
  {
   "cell_type": "markdown",
   "metadata": {},
   "source": [
    "Para forzar que la división sea entera (al entero inferior) en Python 3 se usa `//`: \n"
   ]
  },
  {
   "cell_type": "code",
   "execution_count": null,
   "metadata": {},
   "outputs": [],
   "source": []
  },
  {
   "cell_type": "markdown",
   "metadata": {},
   "source": [
    "Potenciación de un número a otro con el operador `**`:"
   ]
  },
  {
   "cell_type": "code",
   "execution_count": null,
   "metadata": {},
   "outputs": [],
   "source": []
  },
  {
   "cell_type": "markdown",
   "metadata": {},
   "source": [
    "* Números complejos:"
   ]
  },
  {
   "cell_type": "code",
   "execution_count": null,
   "metadata": {},
   "outputs": [],
   "source": []
  },
  {
   "cell_type": "code",
   "execution_count": null,
   "metadata": {},
   "outputs": [],
   "source": []
  },
  {
   "cell_type": "code",
   "execution_count": null,
   "metadata": {},
   "outputs": [],
   "source": []
  },
  {
   "cell_type": "markdown",
   "metadata": {},
   "source": [
    "Se puede __convertir variables__ a `int, float, complex, str`..."
   ]
  },
  {
   "cell_type": "code",
   "execution_count": null,
   "metadata": {},
   "outputs": [],
   "source": []
  },
  {
   "cell_type": "code",
   "execution_count": null,
   "metadata": {},
   "outputs": [],
   "source": []
  },
  {
   "cell_type": "code",
   "execution_count": null,
   "metadata": {},
   "outputs": [],
   "source": []
  },
  {
   "cell_type": "code",
   "execution_count": null,
   "metadata": {},
   "outputs": [],
   "source": []
  },
  {
   "cell_type": "code",
   "execution_count": null,
   "metadata": {},
   "outputs": [],
   "source": []
  },
  {
   "cell_type": "markdown",
   "metadata": {},
   "source": [
    "Para __comprobar el tipo de una variable__:"
   ]
  },
  {
   "cell_type": "code",
   "execution_count": null,
   "metadata": {},
   "outputs": [],
   "source": []
  },
  {
   "cell_type": "code",
   "execution_count": null,
   "metadata": {},
   "outputs": [],
   "source": []
  },
  {
   "cell_type": "code",
   "execution_count": null,
   "metadata": {},
   "outputs": [],
   "source": []
  },
  {
   "cell_type": "code",
   "execution_count": null,
   "metadata": {},
   "outputs": [],
   "source": []
  },
  {
   "cell_type": "markdown",
   "metadata": {},
   "source": [
    "Otras funciones útiles son:"
   ]
  },
  {
   "cell_type": "code",
   "execution_count": null,
   "metadata": {},
   "outputs": [],
   "source": []
  },
  {
   "cell_type": "markdown",
   "metadata": {},
   "source": [
    "<div class=\"alert alert-info\">La <strong>función <code>print</code></strong> se usa para imprimir resultados por pantalla. En Python 2 era distinto, una sentencia sin paréntesis y sin posibilidad de pasar argumentos adicionales.</div>"
   ]
  },
  {
   "cell_type": "code",
   "execution_count": null,
   "metadata": {},
   "outputs": [],
   "source": []
  },
  {
   "cell_type": "code",
   "execution_count": null,
   "metadata": {},
   "outputs": [],
   "source": []
  },
  {
   "cell_type": "code",
   "execution_count": null,
   "metadata": {},
   "outputs": [],
   "source": []
  },
  {
   "cell_type": "code",
   "execution_count": null,
   "metadata": {},
   "outputs": [],
   "source": []
  },
  {
   "cell_type": "code",
   "execution_count": null,
   "metadata": {},
   "outputs": [],
   "source": []
  },
  {
   "cell_type": "markdown",
   "metadata": {},
   "source": [
    "** En funciones:** los argumentos se encierran entre paréntesis y se separan por comas (como es usual en la mayoría de los lenguajes de programación).\n",
    "\n",
    "Python tiene funciones propias o integradas ([built-in](https://docs.python.org/3/library/functions.html)) que no requiere _importar_ librerías."
   ]
  },
  {
   "cell_type": "markdown",
   "metadata": {},
   "source": [
    "## Asignación y operadores de comparación\n",
    "\n",
    "La asignación se realiza con el operador \"=\". Los nombres de las variables en Python pueden contener caracteres alfanuméricos (empezando con una letra) a-z, A-Z, 0-9 y otros símbolos como \"_\". \n",
    "\n",
    "<div class=\"alert alert-info\"> Por cuestiones de estilo, las variables suelen empezar con minúscula, reservando la mayúcula para clases.</div>\n",
    "\n",
    "<div class=\"alert alert-warning\">  Algunos nombres no pueden ser usados porque son usados por Python: <code>and, as, assert, break, class, continue, def, del, elif, else, except, exec, finally, for, from, global, if, import, in, is, lambda, not, or, pass, print, raise, return, try, while, with, yield</code></div>\n",
    "    "
   ]
  },
  {
   "cell_type": "code",
   "execution_count": null,
   "metadata": {},
   "outputs": [],
   "source": []
  },
  {
   "cell_type": "markdown",
   "metadata": {},
   "source": [
    "En Python la asignación (sin \";\" al final) __no imprime el resultado por pantalla__, al contrario que en MATLAB y Octave. Para visualizar la variable recién asignada:"
   ]
  },
  {
   "cell_type": "code",
   "execution_count": null,
   "metadata": {},
   "outputs": [],
   "source": []
  },
  {
   "cell_type": "markdown",
   "metadata": {},
   "source": [
    "En una celda __se puede escribir código que ocupe varias líneas__. Si la última de ellas devuelve un resultado, este se imprimirá."
   ]
  },
  {
   "cell_type": "code",
   "execution_count": null,
   "metadata": {},
   "outputs": [],
   "source": []
  },
  {
   "cell_type": "markdown",
   "metadata": {},
   "source": [
    "<div class=\"alert alert-info\"> Una gran característica de Python es la **asignación múltiple**, realizada en la celda anterior con las variables `x` e `y`, que permite intercambiar valores de manera intuitiva (sin tener que usar variables auxiliares para almacenar en memoria):</div>"
   ]
  },
  {
   "cell_type": "code",
   "execution_count": null,
   "metadata": {},
   "outputs": [],
   "source": []
  },
  {
   "cell_type": "markdown",
   "metadata": {},
   "source": [
    "Los operadores de **comparación** son:\n",
    "\n",
    "Signo | Significado   |||||| Signo | Significado\n",
    "------|-------------------||||||-------|------------\n",
    "  ==  | igual a            ||||||  !=   | distinto de \n",
    "  <   | menor que       ||||||  <=   | menor o igual que\n",
    "  >   | mayor que       ||||||  >=  | mayor o igual que\n",
    "\n",
    "\n",
    "Devolverán un booleano: bien `True`, bien `False`"
   ]
  },
  {
   "cell_type": "code",
   "execution_count": null,
   "metadata": {},
   "outputs": [],
   "source": []
  },
  {
   "cell_type": "code",
   "execution_count": null,
   "metadata": {},
   "outputs": [],
   "source": []
  },
  {
   "cell_type": "code",
   "execution_count": null,
   "metadata": {},
   "outputs": [],
   "source": []
  },
  {
   "cell_type": "code",
   "execution_count": null,
   "metadata": {},
   "outputs": [],
   "source": []
  },
  {
   "cell_type": "code",
   "execution_count": null,
   "metadata": {},
   "outputs": [],
   "source": []
  },
  {
   "cell_type": "code",
   "execution_count": null,
   "metadata": {},
   "outputs": [],
   "source": []
  },
  {
   "cell_type": "markdown",
   "metadata": {},
   "source": [
    "Si la ordenación no tiene sentido devolverá un error:"
   ]
  },
  {
   "cell_type": "code",
   "execution_count": null,
   "metadata": {},
   "outputs": [],
   "source": []
  },
  {
   "cell_type": "code",
   "execution_count": null,
   "metadata": {},
   "outputs": [],
   "source": []
  },
  {
   "cell_type": "markdown",
   "metadata": {},
   "source": [
    "## Booleanos\n",
    " \n",
    "AND|  ||     |\n",
    "--|-----||-----|\n",
    "A |  B  || A·B |\n",
    "0 |  0  ||  0  |\n",
    "0 |  1  ||  0  |\n",
    "1 |  0  ||  0  |\n",
    "1 |  1  ||  1  | "
   ]
  },
  {
   "cell_type": "code",
   "execution_count": null,
   "metadata": {},
   "outputs": [],
   "source": []
  },
  {
   "cell_type": "code",
   "execution_count": null,
   "metadata": {},
   "outputs": [],
   "source": []
  },
  {
   "cell_type": "markdown",
   "metadata": {},
   "source": [
    " \n",
    "OR|     ||     |\n",
    "--|-----||-----|\n",
    "A |  B  || A+B |\n",
    "0 |  0  ||  0  |\n",
    "0 |  1  ||  1  |\n",
    "1 |  0  ||  1  |\n",
    "1 |  1  ||  1  | "
   ]
  },
  {
   "cell_type": "code",
   "execution_count": null,
   "metadata": {},
   "outputs": [],
   "source": []
  },
  {
   "cell_type": "code",
   "execution_count": null,
   "metadata": {},
   "outputs": [],
   "source": []
  },
  {
   "cell_type": "code",
   "execution_count": null,
   "metadata": {},
   "outputs": [],
   "source": []
  },
  {
   "cell_type": "markdown",
   "metadata": {},
   "source": [
    "## Otros tipos de datos: listas y tuplas\n",
    "Otro tipo de datos muy importante que vamos a usar son las secuencias, conjuntos ordenados de elementos: \n",
    "* **tuplas**: se demarcan con paréntesis y son conjuntos inmutables de datos\n",
    "* **listas**: se demarcan con corchetes, que aceptan modificaciones"
   ]
  },
  {
   "cell_type": "code",
   "execution_count": null,
   "metadata": {},
   "outputs": [],
   "source": []
  },
  {
   "cell_type": "code",
   "execution_count": null,
   "metadata": {},
   "outputs": [],
   "source": []
  },
  {
   "cell_type": "code",
   "execution_count": null,
   "metadata": {},
   "outputs": [],
   "source": []
  },
  {
   "cell_type": "markdown",
   "metadata": {},
   "source": [
    "Para las tuplas se pueden obviar paréntesis:"
   ]
  },
  {
   "cell_type": "code",
   "execution_count": null,
   "metadata": {},
   "outputs": [],
   "source": []
  },
  {
   "cell_type": "markdown",
   "metadata": {},
   "source": [
    "#### En los dos tipos es posible...\n",
    "\n",
    "* Comprobar si un elemento está en la secuencia con el operador `in`:"
   ]
  },
  {
   "cell_type": "code",
   "execution_count": null,
   "metadata": {},
   "outputs": [],
   "source": []
  },
  {
   "cell_type": "markdown",
   "metadata": {},
   "source": [
    "* Saber cuandos elementos tienen con la función `len`:"
   ]
  },
  {
   "cell_type": "code",
   "execution_count": null,
   "metadata": {},
   "outputs": [],
   "source": []
  },
  {
   "cell_type": "markdown",
   "metadata": {},
   "source": [
    "* Acceder a un elemento:"
   ]
  },
  {
   "cell_type": "code",
   "execution_count": null,
   "metadata": {},
   "outputs": [],
   "source": []
  },
  {
   "cell_type": "markdown",
   "metadata": {},
   "source": [
    "* Se puede *indexar* las secuencias, utilizando la sintaxis `[<inicio>:<final>:<salto>]`:"
   ]
  },
  {
   "cell_type": "code",
   "execution_count": null,
   "metadata": {},
   "outputs": [],
   "source": []
  },
  {
   "cell_type": "markdown",
   "metadata": {},
   "source": [
    "* Añadir elementos:"
   ]
  },
  {
   "cell_type": "code",
   "execution_count": null,
   "metadata": {},
   "outputs": [],
   "source": []
  },
  {
   "cell_type": "code",
   "execution_count": null,
   "metadata": {},
   "outputs": [],
   "source": []
  },
  {
   "cell_type": "markdown",
   "metadata": {},
   "source": [
    "#### En tuplas no es posible...\n",
    "* modificar elementos como en listas"
   ]
  },
  {
   "cell_type": "code",
   "execution_count": null,
   "metadata": {},
   "outputs": [],
   "source": []
  },
  {
   "cell_type": "code",
   "execution_count": null,
   "metadata": {},
   "outputs": [],
   "source": []
  },
  {
   "cell_type": "markdown",
   "metadata": {},
   "source": [
    "Hay varios métodos, uno de ellos es usar una lista como intermediaria:"
   ]
  },
  {
   "cell_type": "code",
   "execution_count": null,
   "metadata": {},
   "outputs": [],
   "source": []
  },
  {
   "cell_type": "markdown",
   "metadata": {},
   "source": [
    " Se verán más cosas acerca de indexación posteriormente con NumPy. __Importante:__\n",
    "\n",
    "<div class=\"alert alert-info\"> **¡En Python, la indexación empieza por CERO!** </div>\n",
    "\n",
    "---\n",
    "** En definitiva: **\n",
    "* Se ha repasado los tipos básicos de datos numéricos y booleanos, definido variables, comprobado su tipo, operado con ellas\n",
    "* Primera toma de contacto con contenedores de datos como son las listas y las tuplas\n",
    "\n",
    "** Referencias**\n",
    "* \"Learn X in Y minutes\", where X = [Python 3](https://learnxinyminutes.com/docs/python3/)\n",
    "\n",
    "---\n",
    " [@AeroPython](https://github.com/aeropython): Juan Luis Cano, Mabel Delgado, Alejandro Sáez, Andrés Quezada"
   ]
  }
 ],
 "metadata": {
  "kernelspec": {
   "display_name": "Python 3",
   "language": "python",
   "name": "python3"
  },
  "language_info": {
   "codemirror_mode": {
    "name": "ipython",
    "version": 3
   },
   "file_extension": ".py",
   "mimetype": "text/x-python",
   "name": "python",
   "nbconvert_exporter": "python",
   "pygments_lexer": "ipython3",
   "version": "3.6.9"
  }
 },
 "nbformat": 4,
 "nbformat_minor": 1
}
