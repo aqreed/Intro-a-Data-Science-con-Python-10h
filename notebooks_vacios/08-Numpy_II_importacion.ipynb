{
 "cells": [
  {
   "cell_type": "markdown",
   "metadata": {},
   "source": [
    "Shortcut          | Significado   \n",
    "------------------|----------------\n",
    "**CTRL + Enter**  | ejecutar celta \n",
    "**SHIFT + Enter** | ejecutar celda y pasar a siguiente\n",
    "**ALT + Enter**   | ejecutar celda y crear una debajo"
   ]
  },
  {
   "attachments": {
    "numpy.jpg": {
     "image/jpeg": "[encoded data removed]"
    }
   },
   "cell_type": "markdown",
   "metadata": {},
   "source": [
    "![numpy.jpg](attachment:numpy.jpg)\n",
    "\n",
    "---\n",
    "\n",
    "# NumPy II - importación \n",
    "\n",
    "_Python es un lenguaje altamente modularizado: está dividido en __bibliotecas que realizan tareas específicas__. Para hacer uso de ellas deben ser importadas. Se pueden importar de la [biblioteca estándar](https://docs.python.org/3.4/library/), de paquetes descargados (o que se encuentren en la [distribución](http://docs.continuum.io/anaconda/pkg-docs.html)) o de módulos construidos ex-profeso._\n",
    "\n",
    "**Objetivos**:\n",
    "\n",
    "* Importar librerías con diferentes métodos\n",
    "* Entender algunos conceptos sobre prácticas recomendadas \n",
    "\n",
    "---\n",
    "Existen varias formas de importar:"
   ]
  },
  {
   "cell_type": "markdown",
   "metadata": {},
   "source": [
    "## `import ______` \n",
    "\n",
    "    import numpy\n",
    "    \n",
    "Para acceder a una función de numpy, se debe escribir:\n",
    "    \n",
    "    numpy.sin(5)\n",
    "    numpy.linspace(0,100,50)\n",
    "    "
   ]
  },
  {
   "cell_type": "code",
   "execution_count": null,
   "metadata": {},
   "outputs": [],
   "source": []
  },
  {
   "cell_type": "markdown",
   "metadata": {},
   "source": [
    "## `import _____ as __` \n",
    "\n",
    "Como escribir `numpy` cada vez que se haga necesario puede resultar tedioso, suele utilizarse un __namespace__, recomendado en la documentación oficial:\n",
    "\n",
    "    import numpy as np\n",
    "    \n",
    "Se puede entonces llamar a funciones escribiendo:\n",
    "\n",
    "    np.sin(5)\n",
    "    np.linspace(0,100,50)\n",
    "    "
   ]
  },
  {
   "cell_type": "code",
   "execution_count": null,
   "metadata": {},
   "outputs": [],
   "source": []
  },
  {
   "cell_type": "markdown",
   "metadata": {},
   "source": [
    "## `from _____ import ___, ___, ___` \n",
    "\n",
    "También es posible importar funciones concretas dentro del paquete de interés, por ejemplo:\n",
    "\n",
    "```\n",
    "from numpy import linspace, sin, cos\n",
    "```"
   ]
  },
  {
   "cell_type": "code",
   "execution_count": null,
   "metadata": {},
   "outputs": [],
   "source": []
  },
  {
   "cell_type": "markdown",
   "metadata": {},
   "source": [
    "## `from _____ import *`\n",
    "\n",
    "Importa todas las funciones (__altamente no recomendado__):\n",
    "\n",
    "    from numpy import *\n",
    "    \n",
    "El asterisco quiere decir _TODO_. Genera varios problemas: \n",
    "\n",
    "* __Importará gran cantidad de funciones y clases que pueden ser no necesarias__\n",
    "* El nombre de estas funciones puede coincidir con el de alguna de otro módulo anteriormente importado, por lo que __se producirán ambigüedades__\n",
    "\n",
    "<div class=\"alert alert-info\"> Ejemplo: ¿por qué no hacer from numpy import * ?</div>"
   ]
  },
  {
   "cell_type": "code",
   "execution_count": null,
   "metadata": {},
   "outputs": [],
   "source": []
  },
  {
   "cell_type": "code",
   "execution_count": null,
   "metadata": {},
   "outputs": [],
   "source": []
  },
  {
   "cell_type": "markdown",
   "metadata": {},
   "source": [
    "__La función `sin` de [_Math_](https://docs.python.org/3/library/math.html) es diferente a la de _NumPy___. Ambas proporcionarán el seno de un número, evidentemente, el mismo resultado para el mismo número, pero una acepta listas y la otra no. Al hacer la segunda importación, la función seno de NumPy se ha sustituido por la de math y la misma sentencia, da un error. \n",
    "\n",
    "Por lo tanto, se recomienda usar `np.loquesea` __siempre__.\n",
    "\n",
    "---\n",
    "___Se ha visto:___\n",
    "\n",
    "* Cómo importar bibliotecas en Python\n",
    "* Por qué importar `numpy` como `np`\n",
    "---\n",
    "[@AeroPython](https://github.com/aeropython): Juan Luis Cano, Mabel Delgado, Alejandro Sáez, Andrés Quezada"
   ]
  }
 ],
 "metadata": {
  "kernelspec": {
   "display_name": "Python 3",
   "language": "python",
   "name": "python3"
  },
  "language_info": {
   "codemirror_mode": {
    "name": "ipython",
    "version": 3
   },
   "file_extension": ".py",
   "mimetype": "text/x-python",
   "name": "python",
   "nbconvert_exporter": "python",
   "pygments_lexer": "ipython3",
   "version": "3.6.9"
  }
 },
 "nbformat": 4,
 "nbformat_minor": 2
}
