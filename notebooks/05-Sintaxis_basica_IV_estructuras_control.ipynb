{
 "cells": [
  {
   "cell_type": "markdown",
   "metadata": {},
   "source": [
    "Shortcut          | Significado   \n",
    "------------------|----------------\n",
    "**CTRL + Enter**  | ejecutar celta \n",
    "**SHIFT + Enter** | ejecutar celda y pasar a siguiente\n",
    "**ALT + Enter**   | ejecutar celda y crear una debajo"
   ]
  },
  {
   "attachments": {
    "python_logo.jpg": {
     "image/jpeg": "[encoded data removed]"
    }
   },
   "cell_type": "markdown",
   "metadata": {},
   "source": [
    "![python_logo.jpg](attachment:python_logo.jpg)\n",
    "\n",
    "---\n",
    "\n",
    "# Introducción a la sintaxis de Python IV - bucles y condicionales\n",
    "\n",
    "_Se abordará las **estructuras de control** típicas: bucles y condicionales_\n",
    "\n",
    "**Objetivos**:\n",
    "\n",
    "* Sintaxis de los condicionales: [`if`](https://docs.python.org/3/reference/compound_stmts.html#if), `elif`, `else`\n",
    "* Sintaxis de los bucles `for` \n",
    "* Sintaxis de los bucles `while`\n",
    "---"
   ]
  },
  {
   "cell_type": "markdown",
   "metadata": {},
   "source": [
    "## Estructuras de control (I): condicionales\n",
    "    if <condition>:\n",
    "        <do something>\n",
    "    elif <condition>:\n",
    "        <do other thing>\n",
    "        .\n",
    "        .\n",
    "        .\n",
    "    elif <condition>:\n",
    "        <do other thing>\n",
    "    else:\n",
    "        <do other thing>\n",
    "        \n",
    "Para añadir ramas adicionales al condicional, se emplea la sentencia `elif` (abreviatura de *else if*). Para la parte final, que debe ejecutarse si ninguna de las condiciones anteriores se ha cumplido, usamos la sentencia `else`. Ejemplo:"
   ]
  },
  {
   "cell_type": "code",
   "execution_count": 1,
   "metadata": {},
   "outputs": [
    {
     "name": "stdout",
     "output_type": "stream",
     "text": [
      "a es menor que b\n"
     ]
    }
   ],
   "source": [
    "a, b = 1, 2  # Se inicializan dos variables\n",
    "\n",
    "if a < b:\n",
    "    print('a es menor que b')\n",
    "elif a == b:\n",
    "    print('son iguales')\n",
    "else:\n",
    "    print('a es mayor que b')"
   ]
  },
  {
   "cell_type": "markdown",
   "metadata": {},
   "source": [
    "<div class=\"alert alert-info\"><strong>Importante:</strong> en Python los bloques se delimitan por sangrado, utilizando siempre cuatro espacios. Al poner dos puntos al final de la primera línea del condicional, lo que vaya a continuación con *un* nivel de sangrado superior forma parte del condicional. La primera línea que tenga un nivel de sangrado inferior, cierra el condicional. Si no se sigue este criterio, Python dará errores; es una forma de forzar que el código sea legible.</div>"
   ]
  },
  {
   "cell_type": "code",
   "execution_count": 2,
   "metadata": {},
   "outputs": [
    {
     "name": "stdout",
     "output_type": "stream",
     "text": [
      "x es mayor que y\n",
      "x sigue siendo mayor que y\n"
     ]
    }
   ],
   "source": [
    "x, y = 3, 1  # Se inicializan dos variables\n",
    "\n",
    "# Condicional bien escrito\n",
    "if x > y:\n",
    "    print(\"x es mayor que y\")\n",
    "    print(\"x sigue siendo mayor que y\")"
   ]
  },
  {
   "cell_type": "code",
   "execution_count": 3,
   "metadata": {},
   "outputs": [
    {
     "name": "stdout",
     "output_type": "stream",
     "text": [
      "x sigue siendo menor que y\n"
     ]
    }
   ],
   "source": [
    "# Condicional con indentación mal hecha (no devuelve error pero se pierde significado)\n",
    "if x < y:\n",
    "    print(\"x es menor que y\")\n",
    "print(\"x sigue siendo menor que y\")  # <-- ¡Mal!"
   ]
  },
  {
   "cell_type": "code",
   "execution_count": 4,
   "metadata": {},
   "outputs": [
    {
     "ename": "IndentationError",
     "evalue": "unexpected indent (<ipython-input-4-4b0a39e0d932>, line 4)",
     "output_type": "error",
     "traceback": [
      "\u001b[0;36m  File \u001b[0;32m\"<ipython-input-4-4b0a39e0d932>\"\u001b[0;36m, line \u001b[0;32m4\u001b[0m\n\u001b[0;31m    print(\"x sigue siendo menor que y\")\u001b[0m\n\u001b[0m    ^\u001b[0m\n\u001b[0;31mIndentationError\u001b[0m\u001b[0;31m:\u001b[0m unexpected indent\n"
     ]
    }
   ],
   "source": [
    "# Condicional con indentación mal hecha (devuelve error)\n",
    "if x < y:\n",
    "    print(\"x es menor que y\")\n",
    "     print(\"x sigue siendo menor que y\")"
   ]
  },
  {
   "cell_type": "markdown",
   "metadata": {},
   "source": [
    "## Estructuras de control (II): bucles\n",
    "\n",
    "En Python existen dos tipos de estructuras de control típicas:\n",
    "\n",
    "1. Bucles `while`\n",
    "2. Bucles `for`\n",
    "\n",
    "### `while` \n",
    "\n",
    "Los bucles [`while`](https://docs.python.org/3/reference/compound_stmts.html#while) repetirán las sentencias anidadas en él mientras se cumpla una condición:\n",
    "\n",
    "    while <condition>:\n",
    "        <things to do>\n",
    "        \n",
    "Como en el caso de los condicionales, los bloques se separan por indentación sin necesidad de sentencias de cierre del tipo `end`"
   ]
  },
  {
   "cell_type": "code",
   "execution_count": 5,
   "metadata": {},
   "outputs": [
    {
     "name": "stdout",
     "output_type": "stream",
     "text": [
      "-2\n",
      "4\n",
      "-8\n"
     ]
    }
   ],
   "source": [
    "i = -2  # Se inicializan la variable\n",
    "\n",
    "while i < 5:\n",
    "    print(i)\n",
    "    i *= -2"
   ]
  },
  {
   "cell_type": "markdown",
   "metadata": {},
   "source": [
    "<div class=\"alert alert-info\"><strong>Tip</strong>: \n",
    "`i += 1` equivale a `i = i + 1`. En el segundo caso, realiza la operación i + 1, crea un nuevo objeto con ese valor y lo asigna a la variable i (existe una reasignación). En el primer caso, sin embargo, el incremento se produce sobre la propia variable, lo que puede conducir a mejoras en velocidad.\n",
    "\n",
    "Otros operadores 'in-place' son: `-=`, `*=`, `/=` </div>\n",
    "\n",
    "Se puede interrumpir el bucle con la sentencia `break`:"
   ]
  },
  {
   "cell_type": "code",
   "execution_count": 6,
   "metadata": {},
   "outputs": [
    {
     "name": "stdout",
     "output_type": "stream",
     "text": [
      "0\n",
      "1\n",
      "2\n"
     ]
    }
   ],
   "source": [
    "i = 0  # Se inicializan la variable\n",
    "\n",
    "while i < 5:\n",
    "    print(i)\n",
    "    i += 1\n",
    "    if i == 3:\n",
    "        break"
   ]
  },
  {
   "cell_type": "markdown",
   "metadata": {},
   "source": [
    "Un bloque `else` justo después del bucle se ejecuta al final, excepto si el bucle ha sido interrumpido previamente:"
   ]
  },
  {
   "cell_type": "code",
   "execution_count": 7,
   "metadata": {},
   "outputs": [
    {
     "name": "stdout",
     "output_type": "stream",
     "text": [
      "0\n",
      "1\n",
      "2\n",
      "3\n",
      "4\n",
      "El bucle ha terminado\n"
     ]
    }
   ],
   "source": [
    "i = 0  # Se inicializa la variable\n",
    "\n",
    "while i < 5:\n",
    "    print(i)\n",
    "    i += 1\n",
    "else:\n",
    "    print(\"El bucle ha terminado\")"
   ]
  },
  {
   "cell_type": "code",
   "execution_count": 8,
   "metadata": {},
   "outputs": [
    {
     "name": "stdout",
     "output_type": "stream",
     "text": [
      "0\n",
      "1\n",
      "2\n",
      "El bucle ha terminado antes\n"
     ]
    }
   ],
   "source": [
    "i = 0  # Se inicializa la variable\n",
    "\n",
    "# Bucle interrumpido\n",
    "while i < 5:\n",
    "    print(i)\n",
    "    i += 1\n",
    "    if i == 3:\n",
    "        print(\"El bucle ha terminado antes\")\n",
    "        break\n",
    "else:\n",
    "    print(\"El bucle ha terminado\")"
   ]
  },
  {
   "cell_type": "markdown",
   "metadata": {},
   "source": [
    "### `for`\n",
    "\n",
    "El otro bucle en Python es el bucle [`for`](https://docs.python.org/3/reference/compound_stmts.html#for), y funciona recorriendo un conjunto de elementos:\n",
    "\n",
    "    for <element> in <iterable_object>:\n",
    "        <do whatever...>"
   ]
  },
  {
   "cell_type": "code",
   "execution_count": 9,
   "metadata": {},
   "outputs": [
    {
     "name": "stdout",
     "output_type": "stream",
     "text": [
      "1\n",
      "2\n",
      "3\n",
      "4\n",
      "5\n"
     ]
    }
   ],
   "source": [
    "for i in (1,2,3,4,5):\n",
    "    print(i)"
   ]
  },
  {
   "cell_type": "code",
   "execution_count": 10,
   "metadata": {},
   "outputs": [
    {
     "name": "stdout",
     "output_type": "stream",
     "text": [
      "Juan\n",
      "Luis\n",
      "Carlos\n"
     ]
    }
   ],
   "source": [
    "for nombre in [\"Juan\", \"Luis\", \"Carlos\"]:\n",
    "    print(nombre)"
   ]
  },
  {
   "cell_type": "code",
   "execution_count": 11,
   "metadata": {},
   "outputs": [
    {
     "data": {
      "text/plain": [
       "('Juan', 'Luis', 'Carlos')"
      ]
     },
     "execution_count": 11,
     "metadata": {},
     "output_type": "execute_result"
    }
   ],
   "source": [
    "\"Juan\", \"Luis\", \"Carlos\""
   ]
  },
  {
   "cell_type": "code",
   "execution_count": 12,
   "metadata": {},
   "outputs": [
    {
     "name": "stdout",
     "output_type": "stream",
     "text": [
      "0\n",
      "1\n",
      "2\n"
     ]
    }
   ],
   "source": [
    "for i in range(3):\n",
    "    print(i)"
   ]
  },
  {
   "cell_type": "code",
   "execution_count": 13,
   "metadata": {},
   "outputs": [
    {
     "name": "stdout",
     "output_type": "stream",
     "text": [
      "2\n",
      "3\n",
      "4\n"
     ]
    }
   ],
   "source": [
    "for j in range(2, 5):\n",
    "    print(j)"
   ]
  },
  {
   "cell_type": "markdown",
   "metadata": {
    "cell_tags": []
   },
   "source": [
    "## Procesando muchos archivos\n",
    "\n",
    "Todo esto facilita procesar en bucle gran cantidad de archivos, con un esfuerzo similar al necesario para uno solo. Es necesaria la librería [`glob`](https://docs.python.org/3/library/glob.html):"
   ]
  },
  {
   "cell_type": "code",
   "execution_count": 14,
   "metadata": {
    "cell_tags": []
   },
   "outputs": [],
   "source": [
    "import glob"
   ]
  },
  {
   "cell_type": "markdown",
   "metadata": {},
   "source": [
    "Esta librería contiene una función del mismo nombre, `glob`, que sirve para encontrar todos los nombres que cumplen un patrón mediante una expresión regular."
   ]
  },
  {
   "cell_type": "code",
   "execution_count": 15,
   "metadata": {
    "cell_tags": []
   },
   "outputs": [
    {
     "data": {
      "text/plain": [
       "['14-Pandas_III_ejercicio.ipynb',\n",
       " '13-Pandas_II_operaciones_con_DataFrames.ipynb',\n",
       " '05-Sintaxis_basica_IV_estructuras_control.ipynb',\n",
       " '06-Sintaxis_basica_V_ejercicios.ipynb',\n",
       " '03-Sintaxis_basica_II_librerias.ipynb',\n",
       " '04-Sintaxis_basica_III_funciones.ipynb',\n",
       " '09-Numpy_III_secciones_broadcasting.ipynb',\n",
       " '02-Sintaxis_basica_I_tipos_datos.ipynb',\n",
       " '12-Pandas_I_carga_datos_y_manipulacion.ipynb',\n",
       " '10-matplotlib_I_introduccion.ipynb',\n",
       " '07-Numpy_I_arrays_operaciones.ipynb',\n",
       " '01-Introduccion.ipynb',\n",
       " '11-matplotlib_II_widgets.ipynb',\n",
       " '08-Numpy_II_importacion.ipynb']"
      ]
     },
     "execution_count": 15,
     "metadata": {},
     "output_type": "execute_result"
    }
   ],
   "source": [
    "# Buscando notebooks en la misma carpeta (extensiones .ipynb)\n",
    "glob.glob('*.ipynb')"
   ]
  },
  {
   "cell_type": "code",
   "execution_count": 16,
   "metadata": {
    "cell_tags": []
   },
   "outputs": [
    {
     "data": {
      "text/plain": [
       "['../data/swc/inflammation-08.csv',\n",
       " '../data/swc/inflammation-12.csv',\n",
       " '../data/swc/inflammation-05.csv',\n",
       " '../data/swc/inflammation-07.csv',\n",
       " '../data/swc/inflammation-03.csv',\n",
       " '../data/swc/inflammation-11.csv',\n",
       " '../data/swc/inflammation-09.csv',\n",
       " '../data/swc/inflammation-06.csv',\n",
       " '../data/swc/inflammation-10.csv',\n",
       " '../data/swc/inflammation-02.csv',\n",
       " '../data/swc/inflammation-04.csv',\n",
       " '../data/swc/inflammation-01.csv']"
      ]
     },
     "execution_count": 16,
     "metadata": {},
     "output_type": "execute_result"
    }
   ],
   "source": [
    "# Buscando archivos de datos en la carpeta ../data/swc (extensiones .csv)\n",
    "filenames = glob.glob('../data/swc/*.csv')\n",
    "type(filenames)\n",
    "filenames"
   ]
  },
  {
   "cell_type": "markdown",
   "metadata": {},
   "source": [
    "El resultado es una lista de strings y por lo tanto, se pude iterar a lo largo de ella y aplicar a cada fichero una función para analizarlo. Para ello se crea una función `analyze` para explorar cada archivo. Se puede usar dataset a dataset 'inflammation-01.csv', 'inflammation-02.csv', y así sucesivamente:"
   ]
  },
  {
   "cell_type": "code",
   "execution_count": 17,
   "metadata": {},
   "outputs": [
    {
     "name": "stdout",
     "output_type": "stream",
     "text": [
      "../data/swc/inflammation-01.csv\n"
     ]
    },
    {
     "data": {
      "text/plain": [
       "<Figure size 640x480 with 1 Axes>"
      ]
     },
     "metadata": {},
     "output_type": "display_data"
    },
    {
     "name": "stdout",
     "output_type": "stream",
     "text": [
      "../data/swc/inflammation-02.csv\n"
     ]
    },
    {
     "data": {
      "text/plain": [
       "<Figure size 640x480 with 1 Axes>"
      ]
     },
     "metadata": {},
     "output_type": "display_data"
    },
    {
     "name": "stdout",
     "output_type": "stream",
     "text": [
      "../data/swc/inflammation-03.csv\n"
     ]
    },
    {
     "data": {
      "text/plain": [
       "<Figure size 640x480 with 1 Axes>"
      ]
     },
     "metadata": {},
     "output_type": "display_data"
    },
    {
     "name": "stdout",
     "output_type": "stream",
     "text": [
      "../data/swc/inflammation-04.csv\n"
     ]
    },
    {
     "data": {
      "text/plain": [
       "<Figure size 640x480 with 1 Axes>"
      ]
     },
     "metadata": {},
     "output_type": "display_data"
    }
   ],
   "source": [
    "import numpy as np\n",
    "from matplotlib import pyplot as plt\n",
    "\n",
    "def analizar_abuelos(nuestro_csv):\n",
    "    print(nuestro_csv)\n",
    "    data = np.loadtxt(fname=nuestro_csv, delimiter=',')\n",
    "    plt.plot(data.mean(axis=0))\n",
    "    plt.show()\n",
    "    \n",
    "analizar_abuelos('../data/swc/inflammation-01.csv')\n",
    "analizar_abuelos('../data/swc/inflammation-02.csv')\n",
    "analizar_abuelos('../data/swc/inflammation-03.csv')\n",
    "analizar_abuelos('../data/swc/inflammation-04.csv')"
   ]
  },
  {
   "cell_type": "code",
   "execution_count": 18,
   "metadata": {},
   "outputs": [
    {
     "name": "stdout",
     "output_type": "stream",
     "text": [
      "../data/swc/inflammation-01.csv\n"
     ]
    },
    {
     "data": {
      "image/png": "[encoded data removed]",
      "text/plain": [
       "<Figure size 432x288 with 1 Axes>"
      ]
     },
     "metadata": {
      "needs_background": "light"
     },
     "output_type": "display_data"
    },
    {
     "name": "stdout",
     "output_type": "stream",
     "text": [
      "../data/swc/inflammation-02.csv\n"
     ]
    },
    {
     "data": {
      "image/png": "[encoded data removed]",
      "text/plain": [
       "<Figure size 432x288 with 1 Axes>"
      ]
     },
     "metadata": {
      "needs_background": "light"
     },
     "output_type": "display_data"
    },
    {
     "name": "stdout",
     "output_type": "stream",
     "text": [
      "../data/swc/inflammation-03.csv\n"
     ]
    },
    {
     "data": {
      "image/png": "[encoded data removed]",
      "text/plain": [
       "<Figure size 432x288 with 1 Axes>"
      ]
     },
     "metadata": {
      "needs_background": "light"
     },
     "output_type": "display_data"
    }
   ],
   "source": [
    "%matplotlib inline\n",
    "\n",
    "import numpy as np\n",
    "from matplotlib import pyplot as plt\n",
    "\n",
    "def analyze(filename):\n",
    "    print(filename)\n",
    "    data = np.loadtxt(fname=filename, delimiter=',')\n",
    "    plt.plot(data.mean(axis=0))   \n",
    "    plt.show()\n",
    "    \n",
    "# Manualmente:\n",
    "analyze('../data/swc/inflammation-01.csv')\n",
    "analyze('../data/swc/inflammation-02.csv')\n",
    "analyze('../data/swc/inflammation-03.csv')"
   ]
  },
  {
   "cell_type": "markdown",
   "metadata": {},
   "source": [
    "O bien automatizarlo también mediante una sentencia `for`:"
   ]
  },
  {
   "cell_type": "code",
   "execution_count": 19,
   "metadata": {
    "cell_tags": []
   },
   "outputs": [
    {
     "name": "stdout",
     "output_type": "stream",
     "text": [
      "../data/swc/inflammation-08.csv\n"
     ]
    },
    {
     "data": {
      "image/png": "[encoded data removed]",
      "text/plain": [
       "<Figure size 432x288 with 1 Axes>"
      ]
     },
     "metadata": {
      "needs_background": "light"
     },
     "output_type": "display_data"
    },
    {
     "name": "stdout",
     "output_type": "stream",
     "text": [
      "../data/swc/inflammation-12.csv\n"
     ]
    },
    {
     "data": {
      "image/png": "[encoded data removed]",
      "text/plain": [
       "<Figure size 432x288 with 1 Axes>"
      ]
     },
     "metadata": {
      "needs_background": "light"
     },
     "output_type": "display_data"
    },
    {
     "name": "stdout",
     "output_type": "stream",
     "text": [
      "../data/swc/inflammation-05.csv\n"
     ]
    },
    {
     "data": {
      "image/png": "[encoded data removed]",
      "text/plain": [
       "<Figure size 432x288 with 1 Axes>"
      ]
     },
     "metadata": {
      "needs_background": "light"
     },
     "output_type": "display_data"
    }
   ],
   "source": [
    "for f in filenames[0:3]:  # Se seleccionan los tres primeros archivos .csv\n",
    "    analyze(f)"
   ]
  },
  {
   "cell_type": "markdown",
   "metadata": {},
   "source": [
    "---\n",
    "**Se ha visto:**\n",
    "* Definición de los condicionales\n",
    "* Bucles `while`\n",
    "* Bucles `for`\n",
    "* Como obtener un listado de archivos que cumplen un patrón\n",
    "---\n",
    "**Referencias**\n",
    "\n",
    "* Libro [\"Learn Python the Hard Way\"](http://learnpythonthehardway.org/book/)\n",
    "* [Python Tutor, para visualizar código Python paso a paso](http://pythontutor.com/)\n",
    "* Libro [\"How To Think Like a Computer Scientist\"](http://interactivepython.org/runestone/static/thinkcspy/toc.html)\n",
    "* [Project Euler: ejercicios para aprender Python](https://projecteuler.net/problems)\n",
    "* [Python Challenge (!)](http://www.pythonchallenge.com/)\n",
    "\n",
    "** Los materiales de esta clase son una adaptación de: http://swcarpentry.github.io/python-novice-inflammation/ distribuido bajo licencia [Creative Commons Attribution license](https://software-carpentry.org/license/)**\n",
    "\n",
    "---\n",
    "[@AeroPython](https://github.com/aeropython): Juan Luis Cano, Mabel Delgado, Alejandro Sáez, Andrés Quezada"
   ]
  }
 ],
 "metadata": {
  "kernelspec": {
   "display_name": "Python 3",
   "language": "python",
   "name": "python3"
  },
  "language_info": {
   "codemirror_mode": {
    "name": "ipython",
    "version": 3
   },
   "file_extension": ".py",
   "mimetype": "text/x-python",
   "name": "python",
   "nbconvert_exporter": "python",
   "pygments_lexer": "ipython3",
   "version": "3.6.9"
  }
 },
 "nbformat": 4,
 "nbformat_minor": 2
}
